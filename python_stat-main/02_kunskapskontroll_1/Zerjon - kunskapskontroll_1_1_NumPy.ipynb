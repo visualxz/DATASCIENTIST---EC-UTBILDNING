{
 "cells": [
  {
   "cell_type": "markdown",
   "id": "dacf74e6",
   "metadata": {},
   "source": [
    "# NumPy"
   ]
  },
  {
   "cell_type": "markdown",
   "id": "01b2bf34",
   "metadata": {},
   "source": [
    "Read the links: https://numpy.org/doc/stable/user/quickstart.html  and https://numpy.org/doc/stable/user/basics.broadcasting.html  before solving the exercises. "
   ]
  },
  {
   "cell_type": "code",
   "execution_count": 7,
   "id": "1f79e4a6",
   "metadata": {},
   "outputs": [],
   "source": [
    "import numpy as np"
   ]
  },
  {
   "cell_type": "markdown",
   "id": "7dae6889",
   "metadata": {},
   "source": [
    "### Print out the dimension (number of axes), shape, size and the datatype of the matrix A."
   ]
  },
  {
   "cell_type": "code",
   "execution_count": 2,
   "id": "7b3678cd",
   "metadata": {},
   "outputs": [],
   "source": [
    "A = np.arange(1, 16).reshape(3,5)"
   ]
  },
  {
   "cell_type": "code",
   "execution_count": 3,
   "id": "31d39235",
   "metadata": {},
   "outputs": [
    {
     "name": "stdout",
     "output_type": "stream",
     "text": [
      "Axes/dimensions:  2\n",
      "Shape:  (3, 5)\n",
      "Size:  15\n",
      "Datatype:  int64\n"
     ]
    }
   ],
   "source": [
    "print('Axes/dimensions: ', A.ndim,)  \n",
    "print('Shape: ', A.shape)  \n",
    "print('Size: ', A.size) \n",
    "print('Datatype: ', A.dtype)"
   ]
  },
  {
   "cell_type": "markdown",
   "id": "e56d2a96",
   "metadata": {},
   "source": [
    "### Do the following computations on the matrices B and C: \n",
    "* Elementwise subtraction. \n",
    "* Elementwise multiplication. \n",
    "* Matrix multiplication (by default you should use the @ operator)."
   ]
  },
  {
   "cell_type": "code",
   "execution_count": 4,
   "id": "a7053fbb",
   "metadata": {},
   "outputs": [
    {
     "name": "stdout",
     "output_type": "stream",
     "text": [
      "[[1 2 3]\n",
      " [4 5 6]\n",
      " [7 8 9]]\n",
      "\n",
      "[[2. 2. 2.]\n",
      " [2. 2. 2.]\n",
      " [2. 2. 2.]]\n"
     ]
    }
   ],
   "source": [
    "B = np.arange(1, 10).reshape(3, 3)\n",
    "C = np.ones((3, 3))*2\n",
    "\n",
    "print(B)\n",
    "print()\n",
    "print(C)"
   ]
  },
  {
   "cell_type": "code",
   "execution_count": 5,
   "id": "3cd794ae",
   "metadata": {},
   "outputs": [
    {
     "name": "stdout",
     "output_type": "stream",
     "text": [
      "B-C:\n",
      " [[-1.  0.  1.]\n",
      " [ 2.  3.  4.]\n",
      " [ 5.  6.  7.]]\n",
      "\n",
      "B*C:\n",
      " [[ 2.  4.  6.]\n",
      " [ 8. 10. 12.]\n",
      " [14. 16. 18.]]\n",
      "\n",
      "Matrix(B*C):\n",
      " [[12. 12. 12.]\n",
      " [30. 30. 30.]\n",
      " [48. 48. 48.]]\n",
      "\n"
     ]
    }
   ],
   "source": [
    "print(f'B-C:\\n {B - C}\\n')            # Elementwise subtraction.\n",
    "print(f'B*C:\\n {B * C}\\n')            # Elementwise multiplication.\n",
    "print(f'Matrix(B*C):\\n {B @ C}\\n')    # Matrix multiplication "
   ]
  },
  {
   "cell_type": "markdown",
   "id": "96030d53",
   "metadata": {},
   "source": [
    "### Do the following calculations on the matrix:\n",
    "* Exponentiate each number elementwise (use the np.exp function).\n",
    "\n",
    "* Calculate the minimum value in the whole matrix. \n",
    "* Calculcate the minimum value in each row. \n",
    "* Calculcate the minimum value in each column. \n",
    "\n",
    "\n",
    "* Find the index value for the minimum value in the whole matrix (hint: use np.argmin).\n",
    "* Find the index value for the minimum value in each row (hint: use np.argmin).\n",
    "\n",
    "\n",
    "* Calculate the sum for all elements.\n",
    "* Calculate the mean for each column. \n",
    "* Calculate the median for each column. "
   ]
  },
  {
   "cell_type": "code",
   "execution_count": 6,
   "id": "f8a9166b",
   "metadata": {},
   "outputs": [
    {
     "name": "stdout",
     "output_type": "stream",
     "text": [
      "[[1 2 3]\n",
      " [4 5 6]\n",
      " [7 8 9]]\n"
     ]
    }
   ],
   "source": [
    "B = np.arange(1, 10).reshape(3, 3)\n",
    "print(B)"
   ]
  },
  {
   "cell_type": "code",
   "execution_count": 7,
   "id": "f03f24f7",
   "metadata": {},
   "outputs": [
    {
     "name": "stdout",
     "output_type": "stream",
     "text": [
      "Numpy e^x where x is exach value in (Matrix B):\n",
      " [[2.71828183e+00 7.38905610e+00 2.00855369e+01]\n",
      " [5.45981500e+01 1.48413159e+02 4.03428793e+02]\n",
      " [1.09663316e+03 2.98095799e+03 8.10308393e+03]]\n",
      "\n",
      "Min value in B:\n",
      " 1\n",
      "\n",
      "Min each row:\n",
      " [1 2 3]\n",
      "\n",
      "Min each column:\n",
      " [1 4 7]\n",
      "\n",
      "Min indexvalue for B:\n",
      " 0\n",
      "\n",
      "Min indexvalue each row:\n",
      " [0 0 0]\n",
      "\n",
      "Sum of B:\n",
      " 45\n",
      "\n",
      "Mean each column:\n",
      " [2. 5. 8.]\n",
      "\n",
      "Median each column:\n",
      "  [2. 5. 8.]\n",
      "\n"
     ]
    }
   ],
   "source": [
    "print(f'Numpy e^x where x is exach value in (Matrix B):\\n {np.exp(B)}\\n')               \n",
    "print(f'Min value in B:\\n {np.min(B)}\\n')               \n",
    "print(f'Min each row:\\n {np.min(B,axis=0)}\\n')  \n",
    "\n",
    "print(f'Min each column:\\n {np.min(B,axis=1)}\\n')    \n",
    "print(f'Min indexvalue for B:\\n {np.argmin(B)}\\n')            \n",
    "print(f'Min indexvalue each row:\\n {np.argmin(B,axis=0)}\\n') \n",
    "\n",
    "print(f'Sum of B:\\n {np.sum(B)}\\n')              \n",
    "print(f'Mean each column:\\n {np.mean(B,axis=1)}\\n')               \n",
    "print(f'Median each column:\\n  {np.median(B,axis=1)}\\n') "
   ]
  },
  {
   "cell_type": "markdown",
   "id": "541eb7ba",
   "metadata": {},
   "source": [
    "### What does it mean when you provide fewer indices than axes when slicing? See example below."
   ]
  },
  {
   "cell_type": "code",
   "execution_count": 8,
   "id": "9c8abf56",
   "metadata": {},
   "outputs": [
    {
     "name": "stdout",
     "output_type": "stream",
     "text": [
      "[[ 1  2  3  4  5]\n",
      " [ 6  7  8  9 10]\n",
      " [11 12 13 14 15]]\n"
     ]
    }
   ],
   "source": [
    "print(A)"
   ]
  },
  {
   "cell_type": "code",
   "execution_count": 9,
   "id": "69415f7b",
   "metadata": {},
   "outputs": [
    {
     "data": {
      "text/plain": [
       "array([ 6,  7,  8,  9, 10])"
      ]
     },
     "execution_count": 9,
     "metadata": {},
     "output_type": "execute_result"
    }
   ],
   "source": [
    "A[1]"
   ]
  },
  {
   "cell_type": "markdown",
   "id": "6c53541b",
   "metadata": {},
   "source": [
    "**Answer:**"
   ]
  },
  {
   "cell_type": "code",
   "execution_count": 10,
   "id": "de01e120",
   "metadata": {},
   "outputs": [],
   "source": [
    "# Fewer indices than axes when slicing a numpy array,the slicing applies to \n",
    "# the first axis by default. For 2D array, the first axis represents rows.\n",
    "# Therefore, A[1] retrieves the entire second row of the array."
   ]
  },
  {
   "cell_type": "markdown",
   "id": "6652d0c9",
   "metadata": {},
   "source": [
    "### Iterating over multidimensional arrays is done with respect to the first axis, so in the example below we iterate trough the rows. If you would like to iterate through the array *elementwise*, how would you do that?"
   ]
  },
  {
   "cell_type": "code",
   "execution_count": 11,
   "id": "9459864f",
   "metadata": {},
   "outputs": [
    {
     "data": {
      "text/plain": [
       "array([[ 1,  2,  3,  4,  5],\n",
       "       [ 6,  7,  8,  9, 10],\n",
       "       [11, 12, 13, 14, 15]])"
      ]
     },
     "execution_count": 11,
     "metadata": {},
     "output_type": "execute_result"
    }
   ],
   "source": [
    "A"
   ]
  },
  {
   "cell_type": "code",
   "execution_count": 12,
   "id": "a671bb5a",
   "metadata": {},
   "outputs": [
    {
     "name": "stdout",
     "output_type": "stream",
     "text": [
      "[1 2 3 4 5]\n",
      "[ 6  7  8  9 10]\n",
      "[11 12 13 14 15]\n"
     ]
    }
   ],
   "source": [
    "for i in A:\n",
    "    print(i)"
   ]
  },
  {
   "cell_type": "code",
   "execution_count": 13,
   "id": "f4e443a0",
   "metadata": {},
   "outputs": [
    {
     "name": "stdout",
     "output_type": "stream",
     "text": [
      "1\n",
      "2\n",
      "3\n",
      "4\n",
      "5\n",
      "6\n",
      "7\n",
      "8\n",
      "9\n",
      "10\n",
      "11\n",
      "12\n",
      "13\n",
      "14\n",
      "15\n"
     ]
    }
   ],
   "source": [
    "for i in A.flatten():   # or ravel() instead of flatten()\n",
    "    print(i)\n",
    "    \n",
    "# Or oldschool for loop\n",
    "# for i in A:\n",
    "#    for x in i:\n",
    "#        print(x)"
   ]
  },
  {
   "cell_type": "markdown",
   "id": "608a2583",
   "metadata": {},
   "source": [
    "### Explain what the code below does. More specifically, b has three axes - what does this mean? "
   ]
  },
  {
   "cell_type": "code",
   "execution_count": 8,
   "id": "f8f9b26f",
   "metadata": {},
   "outputs": [
    {
     "name": "stdout",
     "output_type": "stream",
     "text": [
      "[ 0  1  2  3  4  5  6  7  8  9 10 11 12 13 14 15 16 17 18 19 20 21 22 23\n",
      " 24 25 26 27 28 29]\n",
      "\n",
      "[[[ 0  1  2  3  4]\n",
      "  [ 5  6  7  8  9]\n",
      "  [10 11 12 13 14]]\n",
      "\n",
      " [[15 16 17 18 19]\n",
      "  [20 21 22 23 24]\n",
      "  [25 26 27 28 29]]]\n"
     ]
    }
   ],
   "source": [
    "# Creates a 1d vector/array with 30 elements   \n",
    "# Reshapes the 1D array 'a' into (b) a 3D array with 2 group,3 rows in each group\n",
    "# and automatically calculates the number of columns needed to maintain the\n",
    "# same number of total elements (which is 5 columns in this case).\n",
    "a = np.arange(30) \n",
    "b = a.reshape((2, 3, -1))\n",
    "\n",
    "print(a)      \n",
    "print()\n",
    "print(b)  \n"
   ]
  },
  {
   "cell_type": "code",
   "execution_count": null,
   "id": "85ba5b59",
   "metadata": {},
   "outputs": [],
   "source": [
    "##### Here's what's happening in general #####\n",
    "\n",
    "# We're reshaping (a) to have a shape of three dimensions - (2, 3, -1)yy\n",
    "\n",
    "# 1) The first dimension has a size of 2.\n",
    "# 2) The second dimension has a size of 3.\n",
    "# 3) The third dimension's size is not specified (-1). This means numpy will \n",
    "#    automatically determine the size for this dimension such that the total number \n",
    "#    of elements in the reshaped array (b) remains the same as in (a).\n",
    "\n",
    "\n",
    "# 3 axes means:\n",
    "# 1st Axis (Depth): Represents the primary sub-arrays. In this case two main subarrays\n",
    "# 2nd Axis (Rows): Distinguishes between the rows inside each primary sub-array.\n",
    "# 3rd Axis (Columns): Identifies the columns within every individual row."
   ]
  },
  {
   "cell_type": "markdown",
   "id": "ab5933d5",
   "metadata": {},
   "source": [
    "### Broadcasting\n",
    "**Read the following link about broadcasting: https://numpy.org/doc/stable/user/basics.broadcasting.html#basics-broadcasting**"
   ]
  },
  {
   "cell_type": "markdown",
   "id": "039805ba",
   "metadata": {},
   "source": [
    "# Remark on Broadcasting when doing Linear Algebra calculations in Python. "
   ]
  },
  {
   "cell_type": "markdown",
   "id": "c4bcc147",
   "metadata": {},
   "source": [
    "### From the mathematical rules of matrix addition, the operation below (m1 + m2) does not make sense. The reason is that matrix addition requires two matrices of the same size. In Python however, it works due to broadcasting rules in NumPy. So you must be careful when doing Linear Algebra calculations in Python since they do not follow the \"mathematical rules\". This can however easily be handled by doing some simple programming, for example validating that two matrices have the same shape is easy if you for instance want to add two matrices. "
   ]
  },
  {
   "cell_type": "code",
   "execution_count": 9,
   "id": "1fd46778",
   "metadata": {},
   "outputs": [
    {
     "name": "stdout",
     "output_type": "stream",
     "text": [
      "[[2 3]\n",
      " [4 5]]\n",
      "\n",
      "(2, 2) \n",
      " (2,)\n"
     ]
    }
   ],
   "source": [
    "m1 = np.array([[1, 2], [3, 4]])\n",
    "m2 = np.array([1, 1])\n",
    "print(m1 + m2)\n",
    "print()\n",
    "print(m1.shape,'\\n',m2.shape)"
   ]
  },
  {
   "cell_type": "markdown",
   "id": "047d6576",
   "metadata": {},
   "source": [
    "### The example below would also not be allowed if following the \"mathematical rules\" in Linear Algebra. But it works due to broadcasting in NumPy. "
   ]
  },
  {
   "cell_type": "code",
   "execution_count": 10,
   "id": "5e6ef2e4",
   "metadata": {},
   "outputs": [
    {
     "name": "stdout",
     "output_type": "stream",
     "text": [
      "[2 3 4]\n"
     ]
    }
   ],
   "source": [
    "v1 = np.array([1, 2, 3])\n",
    "print(v1 + 1)"
   ]
  },
  {
   "cell_type": "code",
   "execution_count": 11,
   "id": "e2cbae26",
   "metadata": {},
   "outputs": [
    {
     "name": "stdout",
     "output_type": "stream",
     "text": [
      "[[1 2]\n",
      " [3 4]]\n",
      "[2 2]\n"
     ]
    }
   ],
   "source": [
    "A = np.arange(1, 5).reshape(2,2)\n",
    "print(A)\n",
    "\n",
    "b = np.array([2, 2])\n",
    "print(b)"
   ]
  },
  {
   "cell_type": "markdown",
   "id": "722fd5cd",
   "metadata": {},
   "source": [
    "# Linear Algebra Exercises"
   ]
  },
  {
   "cell_type": "markdown",
   "id": "b8935099",
   "metadata": {},
   "source": [
    "The exercies are taken from the \"Matrix Algebra for Engineers\" by Chasnov: https://www.math.hkust.edu.hk/~machas/matrix-algebra-for-engineers.pdf .\n",
    "\n",
    "Do the following exercises: \n",
    "* Chapter 2, exercise 1-3.\n",
    "* Quiz on p.8, exercise 2. \n",
    "* Chapter 6, exercise 1. \n",
    "* Quiz on p.15, exercise 3. \n",
    "\n",
    "\n",
    "* Chapter 10, exercise 1. \n",
    "* Chapter 12 exercise 1. \n"
   ]
  },
  {
   "cell_type": "code",
   "execution_count": 12,
   "id": "a452a77a",
   "metadata": {},
   "outputs": [
    {
     "name": "stdout",
     "output_type": "stream",
     "text": [
      "A:\n",
      " [[ 2  1 -1]\n",
      " [ 1 -1  1]]\n",
      "B:\n",
      " [[ 4 -2  1]\n",
      " [ 2 -4 -2]]\n",
      "C:\n",
      " [[1 2]\n",
      " [2 1]]\n",
      "D:\n",
      " [[3 4]\n",
      " [4 3]]\n",
      "E:\n",
      " [[1]\n",
      " [2]]\n"
     ]
    }
   ],
   "source": [
    "A = np.array([[2, 1, -1], [1, -1, 1]])\n",
    "B = np.array([[4, -2, 1], [2, -4, -2]])\n",
    "\n",
    "C = np.array([[1, 2], [2, 1]])\n",
    "D = np.array([[3, 4], [4, 3]])\n",
    "\n",
    "E = np.array([[1], [2]])\n",
    "\n",
    "print('A:\\n',A)\n",
    "print('B:\\n',B)\n",
    "print('C:\\n',C)\n",
    "print('D:\\n',D)\n",
    "print('E:\\n',E)"
   ]
  },
  {
   "cell_type": "markdown",
   "id": "9d8366cc",
   "metadata": {},
   "source": [
    "**Chap2. Question 1.**\n",
    "\n",
    "**Write a function \"add_mult_matrices\" that takes two matrices as input arguments (validate that the input are of the type numpy.ndarray by using the isinstance function), a third argument that is either 'add' or 'multiply' that specifies if you want to add or multiply the matrices (validate that the third argument is either 'add' or 'multiply'). When doing matrix addition, validate that the matrices have the same size. When doing matrix multiplication, validate that the sizes conform (i.e. number of columns in the first matrix is equal to the number of rows in the second matrix).**\n",
    "\n",
    "In this exercise, create a function that takes two matrices as input and either adds or multiplies them by specifying a argument as either 'add' or 'multiply'. Validate that both matrices taken as input are of the type ndarray (use the isinstance function)."
   ]
  },
  {
   "cell_type": "code",
   "execution_count": 13,
   "id": "535ee48c",
   "metadata": {},
   "outputs": [],
   "source": [
    "def add_mult_matrices(x, y, math_method):\n",
    "    \n",
    "    if not (isinstance(x, np.ndarray) and isinstance(y, np.ndarray)):\n",
    "        raise ValueError(\"Both inputs must be of type numpy.ndarray.\")\n",
    "    \n",
    "    if math_method not in ['add', 'multiply']:\n",
    "        raise ValueError(\"Method should be 'add' or 'multiply'\")\n",
    "    \n",
    "    if math_method == 'add':\n",
    "        if x.shape != y.shape:\n",
    "            raise ValueError(\"Both matrices must have the same dimensions for addition.\")\n",
    "        return x + y\n",
    " \n",
    "    elif math_method == 'multiply':\n",
    "        if x.shape[1] != y.shape[0]:\n",
    "            raise ValueError(\"Columns in the first matrix must be equal to rows in the second matrix for multiplication.\")\n",
    "        return x @ y\n",
    "    "
   ]
  },
  {
   "cell_type": "code",
   "execution_count": 14,
   "id": "29560670",
   "metadata": {},
   "outputs": [
    {
     "name": "stdout",
     "output_type": "stream",
     "text": [
      "[[ 0 -4  3]\n",
      " [ 0 -2 -4]]\n"
     ]
    }
   ],
   "source": [
    "\n",
    "# Chap2. Question 1: B-2A\n",
    "\n",
    "print(add_mult_matrices(B,-2*A,'add'))       "
   ]
  },
  {
   "cell_type": "code",
   "execution_count": 22,
   "id": "d6b41aea",
   "metadata": {},
   "outputs": [
    {
     "ename": "ValueError",
     "evalue": "Both matrices must have the same dimensions for addition.",
     "output_type": "error",
     "traceback": [
      "\u001b[0;31m---------------------------------------------------------------------------\u001b[0m",
      "\u001b[0;31mValueError\u001b[0m                                Traceback (most recent call last)",
      "Input \u001b[0;32mIn [22]\u001b[0m, in \u001b[0;36m<cell line: 3>\u001b[0;34m()\u001b[0m\n\u001b[1;32m      1\u001b[0m \u001b[38;5;66;03m# Chap2. Question 1 - 3C -E\u001b[39;00m\n\u001b[0;32m----> 3\u001b[0m \u001b[43madd_mult_matrices\u001b[49m\u001b[43m(\u001b[49m\u001b[38;5;241;43m3\u001b[39;49m\u001b[38;5;241;43m*\u001b[39;49m\u001b[43mC\u001b[49m\u001b[43m,\u001b[49m\u001b[43m \u001b[49m\u001b[38;5;241;43m-\u001b[39;49m\u001b[43mE\u001b[49m\u001b[43m,\u001b[49m\u001b[43m \u001b[49m\u001b[38;5;124;43m'\u001b[39;49m\u001b[38;5;124;43madd\u001b[39;49m\u001b[38;5;124;43m'\u001b[39;49m\u001b[43m)\u001b[49m\n",
      "Input \u001b[0;32mIn [20]\u001b[0m, in \u001b[0;36madd_mult_matrices\u001b[0;34m(x, y, math_method)\u001b[0m\n\u001b[1;32m      9\u001b[0m \u001b[38;5;28;01mif\u001b[39;00m math_method \u001b[38;5;241m==\u001b[39m \u001b[38;5;124m'\u001b[39m\u001b[38;5;124madd\u001b[39m\u001b[38;5;124m'\u001b[39m:\n\u001b[1;32m     10\u001b[0m     \u001b[38;5;28;01mif\u001b[39;00m x\u001b[38;5;241m.\u001b[39mshape \u001b[38;5;241m!=\u001b[39m y\u001b[38;5;241m.\u001b[39mshape:\n\u001b[0;32m---> 11\u001b[0m         \u001b[38;5;28;01mraise\u001b[39;00m \u001b[38;5;167;01mValueError\u001b[39;00m(\u001b[38;5;124m\"\u001b[39m\u001b[38;5;124mBoth matrices must have the same dimensions for addition.\u001b[39m\u001b[38;5;124m\"\u001b[39m)\n\u001b[1;32m     12\u001b[0m     \u001b[38;5;28;01mreturn\u001b[39;00m x \u001b[38;5;241m+\u001b[39m y\n\u001b[1;32m     14\u001b[0m \u001b[38;5;28;01melif\u001b[39;00m math_method \u001b[38;5;241m==\u001b[39m \u001b[38;5;124m'\u001b[39m\u001b[38;5;124mmultiply\u001b[39m\u001b[38;5;124m'\u001b[39m:\n",
      "\u001b[0;31mValueError\u001b[0m: Both matrices must have the same dimensions for addition."
     ]
    }
   ],
   "source": [
    "# Chap2. Question 1: 3C -E\n",
    "\n",
    "add_mult_matrices(3*C, -E, 'add')          # not defined  "
   ]
  },
  {
   "cell_type": "code",
   "execution_count": 15,
   "id": "54e8a183",
   "metadata": {},
   "outputs": [
    {
     "ename": "ValueError",
     "evalue": "Columns in the first matrix must be equal to rows in the second matrix for multiplication.",
     "output_type": "error",
     "traceback": [
      "\u001b[0;31m---------------------------------------------------------------------------\u001b[0m",
      "\u001b[0;31mValueError\u001b[0m                                Traceback (most recent call last)",
      "Input \u001b[0;32mIn [15]\u001b[0m, in \u001b[0;36m<cell line: 3>\u001b[0;34m()\u001b[0m\n\u001b[1;32m      1\u001b[0m \u001b[38;5;66;03m# Chap2. Question 1: A*C\u001b[39;00m\n\u001b[0;32m----> 3\u001b[0m \u001b[38;5;28mprint\u001b[39m(\u001b[43madd_mult_matrices\u001b[49m\u001b[43m(\u001b[49m\u001b[43mA\u001b[49m\u001b[43m,\u001b[49m\u001b[43mC\u001b[49m\u001b[43m,\u001b[49m\u001b[38;5;124;43m'\u001b[39;49m\u001b[38;5;124;43mmultiply\u001b[39;49m\u001b[38;5;124;43m'\u001b[39;49m\u001b[43m)\u001b[49m)\n",
      "Input \u001b[0;32mIn [13]\u001b[0m, in \u001b[0;36madd_mult_matrices\u001b[0;34m(x, y, math_method)\u001b[0m\n\u001b[1;32m     14\u001b[0m \u001b[38;5;28;01melif\u001b[39;00m math_method \u001b[38;5;241m==\u001b[39m \u001b[38;5;124m'\u001b[39m\u001b[38;5;124mmultiply\u001b[39m\u001b[38;5;124m'\u001b[39m:\n\u001b[1;32m     15\u001b[0m     \u001b[38;5;28;01mif\u001b[39;00m x\u001b[38;5;241m.\u001b[39mshape[\u001b[38;5;241m1\u001b[39m] \u001b[38;5;241m!=\u001b[39m y\u001b[38;5;241m.\u001b[39mshape[\u001b[38;5;241m0\u001b[39m]:\n\u001b[0;32m---> 16\u001b[0m         \u001b[38;5;28;01mraise\u001b[39;00m \u001b[38;5;167;01mValueError\u001b[39;00m(\u001b[38;5;124m\"\u001b[39m\u001b[38;5;124mColumns in the first matrix must be equal to rows in the second matrix for multiplication.\u001b[39m\u001b[38;5;124m\"\u001b[39m)\n\u001b[1;32m     17\u001b[0m     \u001b[38;5;28;01mreturn\u001b[39;00m x \u001b[38;5;241m@\u001b[39m y\n",
      "\u001b[0;31mValueError\u001b[0m: Columns in the first matrix must be equal to rows in the second matrix for multiplication."
     ]
    }
   ],
   "source": [
    "# Chap2. Question 1: A*C\n",
    "\n",
    "print(add_mult_matrices(A,C,'multiply'))   # not defined   "
   ]
  },
  {
   "cell_type": "code",
   "execution_count": 16,
   "id": "e8dbe6e7",
   "metadata": {},
   "outputs": [
    {
     "name": "stdout",
     "output_type": "stream",
     "text": [
      "[[11 10]\n",
      " [10 11]]\n"
     ]
    }
   ],
   "source": [
    "# Chap2. Question 1: C*D\n",
    "\n",
    "print(add_mult_matrices(C,D,'multiply'))    "
   ]
  },
  {
   "cell_type": "code",
   "execution_count": 17,
   "id": "a5a67ab0",
   "metadata": {},
   "outputs": [
    {
     "name": "stdout",
     "output_type": "stream",
     "text": [
      "[[  8 -10  -3]\n",
      " [ 10  -8   0]]\n"
     ]
    }
   ],
   "source": [
    "# Chap2. Question 1: C*B\n",
    "\n",
    "print(add_mult_matrices(C,B,'multiply'))     "
   ]
  },
  {
   "cell_type": "markdown",
   "id": "5000c829",
   "metadata": {},
   "source": [
    "**Chap2. Question 2**"
   ]
  },
  {
   "cell_type": "code",
   "execution_count": 19,
   "id": "44dab740",
   "metadata": {},
   "outputs": [
    {
     "name": "stdout",
     "output_type": "stream",
     "text": [
      "AB = AC is  True\n",
      "\n",
      "B = C is  False\n"
     ]
    }
   ],
   "source": [
    "A = np.array([[1, 2], [2, 4]])\n",
    "B = np.array([[2, 1], [1, 3]])\n",
    "C = np.array([[4, 3], [0, 2]])\n",
    "\n",
    "AB = add_mult_matrices(A,B,'multiply')\n",
    "AC = add_mult_matrices(A,C,'multiply')\n",
    "print(f'AB = AC is  {np.array_equal(AB, AC)}\\n')\n",
    "print(f'B = C is  {np.array_equal(B, C)}')\n"
   ]
  },
  {
   "cell_type": "markdown",
   "id": "a7f5b140",
   "metadata": {},
   "source": [
    "**Chap2. Question 3**"
   ]
  },
  {
   "cell_type": "code",
   "execution_count": 20,
   "id": "668b1323",
   "metadata": {},
   "outputs": [
    {
     "name": "stdout",
     "output_type": "stream",
     "text": [
      "AD = DA is  False\n"
     ]
    }
   ],
   "source": [
    "A = np.array([[1, 1, 1], [1, 2, 3],[1, 3, 4]])\n",
    "D = np.array([[2, 0, 0], [0, 3, 0],[0, 0, 4]])\n",
    "\n",
    "AD = add_mult_matrices(A,D,'multiply')\n",
    "DA = add_mult_matrices(D,A,'multiply')\n",
    "print(f'AD = DA is  {np.array_equal(AD, DA)}')\n",
    "\n"
   ]
  },
  {
   "cell_type": "markdown",
   "id": "334ca623",
   "metadata": {},
   "source": [
    "**Quiz p.11, Question 2**"
   ]
  },
  {
   "cell_type": "code",
   "execution_count": 22,
   "id": "b031a786",
   "metadata": {},
   "outputs": [
    {
     "name": "stdout",
     "output_type": "stream",
     "text": [
      "Matrix GF:\n",
      " [[-2  2]\n",
      " [ 2 -2]]\n"
     ]
    }
   ],
   "source": [
    "G = np.array([[1, -1], [-1,  1]])\n",
    "F = np.array([[-1, 1], [1,  -1]])\n",
    "\n",
    "GF = add_mult_matrices(G,F,'multiply')\n",
    "print('Matrix GF:\\n',GF)\n"
   ]
  },
  {
   "cell_type": "markdown",
   "id": "fbfb4124",
   "metadata": {},
   "source": [
    "**Chap 6. Question 1**"
   ]
  },
  {
   "cell_type": "code",
   "execution_count": 23,
   "id": "9c68d160",
   "metadata": {},
   "outputs": [
    {
     "name": "stdout",
     "output_type": "stream",
     "text": [
      "Inverse Matrix K:\n",
      "[[ 5. -6.]\n",
      " [-4.  5.]]\n",
      " True\n",
      "\n",
      "Inverse Matrix K:\n",
      "[[ 0.5        -0.66666667]\n",
      " [-0.5         1.        ]]\n",
      " True\n"
     ]
    }
   ],
   "source": [
    "K = np.array([[5, 6], [4, 5]])\n",
    "L = np.array([[6, 4], [3, 3]])\n",
    "I = np.array([[1, 0], [0, 1]]) # identity matrix\n",
    "\n",
    "K_inv = np.linalg.inv(K)  # Inverse of K\n",
    "L_inv = np.linalg.inv(L)  # Inverse of K\n",
    "\n",
    "# Verification by multiply matrix with it's inverse = should be I/Identity matrix\n",
    "K_ver = add_mult_matrices(K, K_inv,'multiply')  \n",
    "L_ver = add_mult_matrices(L, L_inv,'multiply')\n",
    "\n",
    "I_K = np.round(K_ver).astype(int) #round each element in matrix to nearest whole nr\n",
    "I_L = np.round(K_ver).astype(int)\n",
    "\n",
    "print(f'Inverse Matrix K:\\n{K_inv}\\n {np.array_equal(I, I_K)}\\n')\n",
    "print(f'Inverse Matrix K:\\n{L_inv}\\n {np.array_equal(I, I_L)}')\n",
    "\n",
    "\n",
    "# I know there is faster way but didnt have time to understand the allclose method "
   ]
  },
  {
   "cell_type": "markdown",
   "id": "574b6d18",
   "metadata": {},
   "source": [
    "**Quiz p.19, Question 3**"
   ]
  },
  {
   "cell_type": "code",
   "execution_count": 24,
   "id": "c4cc11eb",
   "metadata": {},
   "outputs": [
    {
     "name": "stdout",
     "output_type": "stream",
     "text": [
      "Inverse Matrix Q:\n",
      "[[ 1.  -1. ]\n",
      " [-0.5  1. ]]\n",
      " True\n",
      "\n"
     ]
    }
   ],
   "source": [
    "Q = np.array([[2, 2], [1, 2]])\n",
    "Q_inv = np.linalg.inv(Q)  # Inverse of K\n",
    "I = np.array([[1, 0], [0, 1]]) # identity matrix\n",
    "\n",
    "# Verification by multiply matrix with it's inverse = should be I/Identity matrix\n",
    "Q_ver = add_mult_matrices(Q, Q_inv,'multiply')  \n",
    "I_Q = np.round(Q_ver).astype(int) #round each element in matrix to nearest whole nr\n",
    "\n",
    "\n",
    "print(f'Inverse Matrix Q:\\n{Q_inv}\\n {np.array_equal(I, I_Q)}\\n')\n"
   ]
  },
  {
   "cell_type": "markdown",
   "id": "5de93779",
   "metadata": {},
   "source": [
    "**Chap10. Question 1 a)**"
   ]
  },
  {
   "cell_type": "code",
   "execution_count": 25,
   "id": "e9a63544",
   "metadata": {},
   "outputs": [
    {
     "name": "stdout",
     "output_type": "stream",
     "text": [
      "x1,x2,x3 -> [ 3.  4. -6.]\n"
     ]
    }
   ],
   "source": [
    "P = np.array([[3, -7, -2], [-3, 5, 1], [6, -4, 0]])\n",
    "T = np.array([-7, 5, 2])\n",
    "print('x1,x2,x3 ->',np.linalg.solve(P,T))\n"
   ]
  },
  {
   "cell_type": "markdown",
   "id": "3f49e9e1",
   "metadata": {},
   "source": [
    "**Chap10. Question 1 b)**"
   ]
  },
  {
   "cell_type": "code",
   "execution_count": 26,
   "id": "6f6e72fb",
   "metadata": {},
   "outputs": [
    {
     "name": "stdout",
     "output_type": "stream",
     "text": [
      "x1,x2,x3 -> [ 8.  2. -1.]\n"
     ]
    }
   ],
   "source": [
    "I = np.array([[1, -2, 3], [-1, 3, -1], [2, -5, 5]])\n",
    "L = np.array([1, -1, 1])\n",
    "\n",
    "print('x1,x2,x3 ->',np.linalg.solve(I,L))"
   ]
  },
  {
   "cell_type": "markdown",
   "id": "beb0a8af",
   "metadata": {},
   "source": [
    "**Chap 12. Question 1**"
   ]
  },
  {
   "cell_type": "code",
   "execution_count": 27,
   "id": "4fe15c46",
   "metadata": {},
   "outputs": [
    {
     "name": "stdout",
     "output_type": "stream",
     "text": [
      "Inverse Matrix Q:\n",
      "[[ 0.66666667  1.33333333  0.5       ]\n",
      " [ 1.          2.          0.5       ]\n",
      " [-3.         -5.         -1.        ]]\n",
      " True\n",
      "\n"
     ]
    }
   ],
   "source": [
    "V = np.array([[3, -7, -2], [-3, 5, 1],[6, -4, 0]])\n",
    "V_inv = np.linalg.inv(V)\n",
    "I = [[1, 0, 0], [0, 1, 0],[0, 0, 1]] # Identity matrix\n",
    "\n",
    "# Verification by multiply matrix with it's inverse = should be I/Identity matrix\n",
    "V_ver = add_mult_matrices(V, V_inv,'multiply')  \n",
    "I_V = np.round(V_ver).astype(int) #round each element in matrix to nearest whole nr\n",
    "\n",
    "\n",
    "print(f'Inverse Matrix Q:\\n{V_inv}\\n {np.array_equal(I, I_V)}\\n')\n",
    "\n",
    "\n"
   ]
  },
  {
   "cell_type": "markdown",
   "id": "6a4a524f",
   "metadata": {},
   "source": [
    "### Copies and Views\n",
    "Read the following link: https://numpy.org/doc/stable/user/basics.copies.html"
   ]
  },
  {
   "cell_type": "markdown",
   "id": "6cbbeaf7",
   "metadata": {},
   "source": [
    "**Basic indexing creates a view, How can you check if v1 and v2 is a view or copy? If you change the last element in v2 to 123, will the last element in v1 be changed? Why?**"
   ]
  },
  {
   "cell_type": "code",
   "execution_count": null,
   "id": "5b9ef4df",
   "metadata": {},
   "outputs": [],
   "source": [
    "v1 = np.arange(4)\n",
    "v2 = v1[-2:]\n",
    "print(v1)\n",
    "print(v2)"
   ]
  },
  {
   "cell_type": "code",
   "execution_count": null,
   "id": "d2440489",
   "metadata": {},
   "outputs": [],
   "source": [
    "# The base attribute of a view returns the original array while it returns None for a copy.\n",
    "print(v1.base)\n",
    "print(v2.base)"
   ]
  },
  {
   "cell_type": "code",
   "execution_count": null,
   "id": "c8752807",
   "metadata": {},
   "outputs": [],
   "source": [
    "# The last element in v1 will be changed aswell since v2 is a view, meaning they share the same data buffer.\n",
    "v2[-1] = 123\n",
    "print(v1)\n",
    "print(v2)"
   ]
  },
  {
   "cell_type": "code",
   "execution_count": null,
   "id": "3dd68221",
   "metadata": {},
   "outputs": [],
   "source": [
    "# In numpy:\n",
    "\n",
    "# 1. Views, not Copies: Numpy prefers to create views (references to the same data)\n",
    "#    when slicing arrays.\n",
    "\n",
    "# 2. Memory & Speed: This is efficient as copying large arrays consumes \n",
    "#    more memoryand is slower.\n",
    "\n",
    "# 3. Data Consistency: Changes in a view are reflected in the original array, \n",
    "#   ensuring data remains consistent.\n",
    "\n",
    "\n",
    "# To avoid unintended changes we use the .copy() method to get an independent data\n",
    "# subset."
   ]
  }
 ],
 "metadata": {
  "kernelspec": {
   "display_name": "Python 3 (ipykernel)",
   "language": "python",
   "name": "python3"
  },
  "language_info": {
   "codemirror_mode": {
    "name": "ipython",
    "version": 3
   },
   "file_extension": ".py",
   "mimetype": "text/x-python",
   "name": "python",
   "nbconvert_exporter": "python",
   "pygments_lexer": "ipython3",
   "version": "3.9.12"
  }
 },
 "nbformat": 4,
 "nbformat_minor": 5
}
