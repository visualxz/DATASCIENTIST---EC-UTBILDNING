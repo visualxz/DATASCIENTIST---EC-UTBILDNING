{
 "cells": [
  {
   "cell_type": "markdown",
   "id": "b540290b",
   "metadata": {},
   "source": [
    "# Pandas\n",
    "Read \"10 minutes to Pandas\": https://pandas.pydata.org/docs/user_guide/10min.html before solving the exercises.\n",
    "We will use the data set \"cars_data\" in the exercises below. "
   ]
  },
  {
   "cell_type": "code",
   "execution_count": 5,
   "id": "fa266ee4",
   "metadata": {},
   "outputs": [],
   "source": [
    "# Importing Pandas. \n",
    "import pandas as pd"
   ]
  },
  {
   "cell_type": "markdown",
   "id": "addb587b",
   "metadata": {},
   "source": [
    "### Explain what a CSV file is."
   ]
  },
  {
   "cell_type": "code",
   "execution_count": 2,
   "id": "6047c36f",
   "metadata": {},
   "outputs": [],
   "source": [
    "# A CSV (Comma-Separated Values) file is a plain text format used to store tabular data,\n",
    "# with rows and columns separated by commas. Its commonly used for data exchange \n",
    "# between software applications, such as exporting data from spreadsheets or importing \n",
    "# data into databases. CSV files are human-readable, versatile, and do not include data \n",
    "# type information."
   ]
  },
  {
   "cell_type": "markdown",
   "id": "5c61e5d9",
   "metadata": {},
   "source": [
    "### Load the data set \"cars_data\" through Pandas. "
   ]
  },
  {
   "cell_type": "code",
   "execution_count": null,
   "id": "91923010",
   "metadata": {},
   "outputs": [],
   "source": [
    "# When reading in the data, either you have the data file in the same folder as your python script\n",
    "# or in a seperate folder.\n",
    "\n",
    "# Code below can be ran if you have the data file in the same folder as the script\n",
    "# cars = pd.read_csv(\"cars_data.csv\")\n",
    "\n",
    "# Code below can be ran if you have the data file in another script. \n",
    "# Notice, you must change the path according to where you have the data in your computer. \n",
    "# pd.read_csv(r'C:\\Users\\Antonio Prgomet\\Documents\\ec_utbildning\\kursframstallning\\ds23\\python_stat\\exercises\\numpy_matplot_pandas\\cars_data.csv')"
   ]
  },
  {
   "cell_type": "code",
   "execution_count": 28,
   "id": "2a2c1467",
   "metadata": {},
   "outputs": [
    {
     "data": {
      "text/html": [
       "<div>\n",
       "<style scoped>\n",
       "    .dataframe tbody tr th:only-of-type {\n",
       "        vertical-align: middle;\n",
       "    }\n",
       "\n",
       "    .dataframe tbody tr th {\n",
       "        vertical-align: top;\n",
       "    }\n",
       "\n",
       "    .dataframe thead th {\n",
       "        text-align: right;\n",
       "    }\n",
       "</style>\n",
       "<table border=\"1\" class=\"dataframe\">\n",
       "  <thead>\n",
       "    <tr style=\"text-align: right;\">\n",
       "      <th></th>\n",
       "      <th>index</th>\n",
       "      <th>company</th>\n",
       "      <th>body-style</th>\n",
       "      <th>wheel-base</th>\n",
       "      <th>length</th>\n",
       "      <th>engine-type</th>\n",
       "      <th>num-of-cylinders</th>\n",
       "      <th>horsepower</th>\n",
       "      <th>average-mileage</th>\n",
       "      <th>price</th>\n",
       "    </tr>\n",
       "  </thead>\n",
       "  <tbody>\n",
       "    <tr>\n",
       "      <th>0</th>\n",
       "      <td>0</td>\n",
       "      <td>alfa-romero</td>\n",
       "      <td>convertible</td>\n",
       "      <td>88.6</td>\n",
       "      <td>168.8</td>\n",
       "      <td>dohc</td>\n",
       "      <td>four</td>\n",
       "      <td>111</td>\n",
       "      <td>21</td>\n",
       "      <td>13495.0</td>\n",
       "    </tr>\n",
       "    <tr>\n",
       "      <th>1</th>\n",
       "      <td>1</td>\n",
       "      <td>alfa-romero</td>\n",
       "      <td>convertible</td>\n",
       "      <td>88.6</td>\n",
       "      <td>168.8</td>\n",
       "      <td>dohc</td>\n",
       "      <td>four</td>\n",
       "      <td>111</td>\n",
       "      <td>21</td>\n",
       "      <td>16500.0</td>\n",
       "    </tr>\n",
       "    <tr>\n",
       "      <th>2</th>\n",
       "      <td>2</td>\n",
       "      <td>alfa-romero</td>\n",
       "      <td>hatchback</td>\n",
       "      <td>94.5</td>\n",
       "      <td>171.2</td>\n",
       "      <td>ohcv</td>\n",
       "      <td>six</td>\n",
       "      <td>154</td>\n",
       "      <td>19</td>\n",
       "      <td>16500.0</td>\n",
       "    </tr>\n",
       "    <tr>\n",
       "      <th>3</th>\n",
       "      <td>3</td>\n",
       "      <td>audi</td>\n",
       "      <td>sedan</td>\n",
       "      <td>99.8</td>\n",
       "      <td>176.6</td>\n",
       "      <td>ohc</td>\n",
       "      <td>four</td>\n",
       "      <td>102</td>\n",
       "      <td>24</td>\n",
       "      <td>13950.0</td>\n",
       "    </tr>\n",
       "    <tr>\n",
       "      <th>4</th>\n",
       "      <td>4</td>\n",
       "      <td>audi</td>\n",
       "      <td>sedan</td>\n",
       "      <td>99.4</td>\n",
       "      <td>176.6</td>\n",
       "      <td>ohc</td>\n",
       "      <td>five</td>\n",
       "      <td>115</td>\n",
       "      <td>18</td>\n",
       "      <td>17450.0</td>\n",
       "    </tr>\n",
       "    <tr>\n",
       "      <th>...</th>\n",
       "      <td>...</td>\n",
       "      <td>...</td>\n",
       "      <td>...</td>\n",
       "      <td>...</td>\n",
       "      <td>...</td>\n",
       "      <td>...</td>\n",
       "      <td>...</td>\n",
       "      <td>...</td>\n",
       "      <td>...</td>\n",
       "      <td>...</td>\n",
       "    </tr>\n",
       "    <tr>\n",
       "      <th>56</th>\n",
       "      <td>81</td>\n",
       "      <td>volkswagen</td>\n",
       "      <td>sedan</td>\n",
       "      <td>97.3</td>\n",
       "      <td>171.7</td>\n",
       "      <td>ohc</td>\n",
       "      <td>four</td>\n",
       "      <td>85</td>\n",
       "      <td>27</td>\n",
       "      <td>7975.0</td>\n",
       "    </tr>\n",
       "    <tr>\n",
       "      <th>57</th>\n",
       "      <td>82</td>\n",
       "      <td>volkswagen</td>\n",
       "      <td>sedan</td>\n",
       "      <td>97.3</td>\n",
       "      <td>171.7</td>\n",
       "      <td>ohc</td>\n",
       "      <td>four</td>\n",
       "      <td>52</td>\n",
       "      <td>37</td>\n",
       "      <td>7995.0</td>\n",
       "    </tr>\n",
       "    <tr>\n",
       "      <th>58</th>\n",
       "      <td>86</td>\n",
       "      <td>volkswagen</td>\n",
       "      <td>sedan</td>\n",
       "      <td>97.3</td>\n",
       "      <td>171.7</td>\n",
       "      <td>ohc</td>\n",
       "      <td>four</td>\n",
       "      <td>100</td>\n",
       "      <td>26</td>\n",
       "      <td>9995.0</td>\n",
       "    </tr>\n",
       "    <tr>\n",
       "      <th>59</th>\n",
       "      <td>87</td>\n",
       "      <td>volvo</td>\n",
       "      <td>sedan</td>\n",
       "      <td>104.3</td>\n",
       "      <td>188.8</td>\n",
       "      <td>ohc</td>\n",
       "      <td>four</td>\n",
       "      <td>114</td>\n",
       "      <td>23</td>\n",
       "      <td>12940.0</td>\n",
       "    </tr>\n",
       "    <tr>\n",
       "      <th>60</th>\n",
       "      <td>88</td>\n",
       "      <td>volvo</td>\n",
       "      <td>wagon</td>\n",
       "      <td>104.3</td>\n",
       "      <td>188.8</td>\n",
       "      <td>ohc</td>\n",
       "      <td>four</td>\n",
       "      <td>114</td>\n",
       "      <td>23</td>\n",
       "      <td>13415.0</td>\n",
       "    </tr>\n",
       "  </tbody>\n",
       "</table>\n",
       "<p>61 rows × 10 columns</p>\n",
       "</div>"
      ],
      "text/plain": [
       "    index      company   body-style  wheel-base  length engine-type  \\\n",
       "0       0  alfa-romero  convertible        88.6   168.8        dohc   \n",
       "1       1  alfa-romero  convertible        88.6   168.8        dohc   \n",
       "2       2  alfa-romero    hatchback        94.5   171.2        ohcv   \n",
       "3       3         audi        sedan        99.8   176.6         ohc   \n",
       "4       4         audi        sedan        99.4   176.6         ohc   \n",
       "..    ...          ...          ...         ...     ...         ...   \n",
       "56     81   volkswagen        sedan        97.3   171.7         ohc   \n",
       "57     82   volkswagen        sedan        97.3   171.7         ohc   \n",
       "58     86   volkswagen        sedan        97.3   171.7         ohc   \n",
       "59     87        volvo        sedan       104.3   188.8         ohc   \n",
       "60     88        volvo        wagon       104.3   188.8         ohc   \n",
       "\n",
       "   num-of-cylinders  horsepower  average-mileage    price  \n",
       "0              four         111               21  13495.0  \n",
       "1              four         111               21  16500.0  \n",
       "2               six         154               19  16500.0  \n",
       "3              four         102               24  13950.0  \n",
       "4              five         115               18  17450.0  \n",
       "..              ...         ...              ...      ...  \n",
       "56             four          85               27   7975.0  \n",
       "57             four          52               37   7995.0  \n",
       "58             four         100               26   9995.0  \n",
       "59             four         114               23  12940.0  \n",
       "60             four         114               23  13415.0  \n",
       "\n",
       "[61 rows x 10 columns]"
      ]
     },
     "execution_count": 28,
     "metadata": {},
     "output_type": "execute_result"
    }
   ],
   "source": [
    "cars = pd.read_csv(\"cars_data.csv\")   # I have the csv file in the same folder\n",
    "cars"
   ]
  },
  {
   "cell_type": "markdown",
   "id": "b9ac1d06",
   "metadata": {},
   "source": [
    "### Print the first 10 rows of the data. "
   ]
  },
  {
   "cell_type": "code",
   "execution_count": 17,
   "id": "2886ff8e",
   "metadata": {},
   "outputs": [
    {
     "name": "stdout",
     "output_type": "stream",
     "text": [
      "   index      company   body-style  wheel-base  length engine-type  \\\n",
      "0      0  alfa-romero  convertible        88.6   168.8        dohc   \n",
      "1      1  alfa-romero  convertible        88.6   168.8        dohc   \n",
      "2      2  alfa-romero    hatchback        94.5   171.2        ohcv   \n",
      "3      3         audi        sedan        99.8   176.6         ohc   \n",
      "4      4         audi        sedan        99.4   176.6         ohc   \n",
      "5      5         audi        sedan        99.8   177.3         ohc   \n",
      "6      6         audi        wagon       105.8   192.7         ohc   \n",
      "7      9          bmw        sedan       101.2   176.8         ohc   \n",
      "8     10          bmw        sedan       101.2   176.8         ohc   \n",
      "9     11          bmw        sedan       101.2   176.8         ohc   \n",
      "\n",
      "  num-of-cylinders  horsepower  average-mileage    price  \n",
      "0             four         111               21  13495.0  \n",
      "1             four         111               21  16500.0  \n",
      "2              six         154               19  16500.0  \n",
      "3             four         102               24  13950.0  \n",
      "4             five         115               18  17450.0  \n",
      "5             five         110               19  15250.0  \n",
      "6             five         110               19  18920.0  \n",
      "7             four         101               23  16430.0  \n",
      "8             four         101               23  16925.0  \n",
      "9              six         121               21  20970.0  \n"
     ]
    }
   ],
   "source": [
    "print(cars.head(10))"
   ]
  },
  {
   "cell_type": "markdown",
   "id": "ec02774b",
   "metadata": {},
   "source": [
    "### Print the last 5 rows. "
   ]
  },
  {
   "cell_type": "code",
   "execution_count": 18,
   "id": "437d158f",
   "metadata": {},
   "outputs": [
    {
     "name": "stdout",
     "output_type": "stream",
     "text": [
      "    index     company body-style  wheel-base  length engine-type  \\\n",
      "56     81  volkswagen      sedan        97.3   171.7         ohc   \n",
      "57     82  volkswagen      sedan        97.3   171.7         ohc   \n",
      "58     86  volkswagen      sedan        97.3   171.7         ohc   \n",
      "59     87       volvo      sedan       104.3   188.8         ohc   \n",
      "60     88       volvo      wagon       104.3   188.8         ohc   \n",
      "\n",
      "   num-of-cylinders  horsepower  average-mileage    price  \n",
      "56             four          85               27   7975.0  \n",
      "57             four          52               37   7995.0  \n",
      "58             four         100               26   9995.0  \n",
      "59             four         114               23  12940.0  \n",
      "60             four         114               23  13415.0  \n"
     ]
    }
   ],
   "source": [
    "print(cars.tail(5))"
   ]
  },
  {
   "cell_type": "markdown",
   "id": "e0cd9329",
   "metadata": {},
   "source": [
    "### By using the info method, check how many non-null rows each column have. "
   ]
  },
  {
   "cell_type": "code",
   "execution_count": 19,
   "id": "efe71f5f",
   "metadata": {},
   "outputs": [
    {
     "name": "stdout",
     "output_type": "stream",
     "text": [
      "<class 'pandas.core.frame.DataFrame'>\n",
      "Int64Index: 58 entries, 0 to 60\n",
      "Data columns (total 10 columns):\n",
      " #   Column            Non-Null Count  Dtype  \n",
      "---  ------            --------------  -----  \n",
      " 0   index             58 non-null     int64  \n",
      " 1   company           58 non-null     object \n",
      " 2   body-style        58 non-null     object \n",
      " 3   wheel-base        58 non-null     float64\n",
      " 4   length            58 non-null     float64\n",
      " 5   engine-type       58 non-null     object \n",
      " 6   num-of-cylinders  58 non-null     object \n",
      " 7   horsepower        58 non-null     int64  \n",
      " 8   average-mileage   58 non-null     int64  \n",
      " 9   price             58 non-null     float64\n",
      "dtypes: float64(3), int64(3), object(4)\n",
      "memory usage: 5.0+ KB\n",
      "None\n"
     ]
    }
   ],
   "source": [
    "print(cars.info())"
   ]
  },
  {
   "cell_type": "markdown",
   "id": "887f8c9c",
   "metadata": {},
   "source": [
    "### If any column has a missing value, drop the entire row. Notice, the operation should be inplace meaning you change the dataframe itself."
   ]
  },
  {
   "cell_type": "code",
   "execution_count": 27,
   "id": "60b660dc",
   "metadata": {},
   "outputs": [
    {
     "name": "stdout",
     "output_type": "stream",
     "text": [
      "None\n"
     ]
    }
   ],
   "source": [
    "print(cars.dropna(inplace = True))"
   ]
  },
  {
   "cell_type": "markdown",
   "id": "614eeffe",
   "metadata": {},
   "source": [
    "### Calculate the mean of each numeric column. "
   ]
  },
  {
   "cell_type": "code",
   "execution_count": 26,
   "id": "49e06c7c",
   "metadata": {},
   "outputs": [
    {
     "name": "stdout",
     "output_type": "stream",
     "text": [
      "index                 40.827586\n",
      "wheel-base            98.620690\n",
      "length               173.646552\n",
      "horsepower           106.051724\n",
      "average-mileage       25.534483\n",
      "price              15387.000000\n",
      "dtype: float64\n"
     ]
    }
   ],
   "source": [
    "print(cars.mean(numeric_only=True))\n",
    "\n",
    "\n",
    "# Går också med nedan\n",
    "# numeric_data = cars.select_dtypes(include=[int,float])\n",
    " #print(numeric_data.mean())"
   ]
  },
  {
   "cell_type": "markdown",
   "id": "f4f79bfd",
   "metadata": {},
   "source": [
    "### Select the rows where the column \"company\" is equal to 'honda'. "
   ]
  },
  {
   "cell_type": "code",
   "execution_count": 21,
   "id": "1e373079",
   "metadata": {},
   "outputs": [
    {
     "name": "stdout",
     "output_type": "stream",
     "text": [
      "    index company body-style  wheel-base  length engine-type num-of-cylinders  \\\n",
      "18     27   honda      wagon        96.5   157.1         ohc             four   \n",
      "19     28   honda      sedan        96.5   175.4         ohc             four   \n",
      "20     29   honda      sedan        96.5   169.1         ohc             four   \n",
      "\n",
      "    horsepower  average-mileage    price  \n",
      "18          76               30   7295.0  \n",
      "19         101               24  12945.0  \n",
      "20         100               25  10345.0  \n"
     ]
    }
   ],
   "source": [
    "print(cars.loc[cars['company'] == 'honda'])"
   ]
  },
  {
   "cell_type": "markdown",
   "id": "0a3543eb",
   "metadata": {},
   "source": [
    "### Sort the data set by price in descending order. This should *not* be an inplace operation. "
   ]
  },
  {
   "cell_type": "code",
   "execution_count": 22,
   "id": "8455abaa",
   "metadata": {},
   "outputs": [
    {
     "name": "stdout",
     "output_type": "stream",
     "text": [
      "35    45400.0\n",
      "11    41315.0\n",
      "34    40960.0\n",
      "46    37028.0\n",
      "12    36880.0\n",
      "26    36000.0\n",
      "25    35550.0\n",
      "45    34028.0\n",
      "24    32250.0\n",
      "10    30760.0\n",
      "33    28248.0\n",
      "32    25552.0\n",
      "9     20970.0\n",
      "6     18920.0\n",
      "31    18344.0\n",
      "4     17450.0\n",
      "8     16925.0\n",
      "2     16500.0\n",
      "1     16500.0\n",
      "7     16430.0\n",
      "Name: price, dtype: float64\n"
     ]
    }
   ],
   "source": [
    "car_sorted = cars.sort_values('price', ascending = False,)\n",
    "\n",
    "print(car_sorted.head(20).price)   # Ville bara se de 20 fösta priserna för att se att de printades rätt"
   ]
  },
  {
   "cell_type": "markdown",
   "id": "1527f255",
   "metadata": {},
   "source": [
    "### Select the rows where the column \"company\" is equal to any of the values (audi, bmw, porsche)."
   ]
  },
  {
   "cell_type": "code",
   "execution_count": 23,
   "id": "60e300ae",
   "metadata": {},
   "outputs": [
    {
     "name": "stdout",
     "output_type": "stream",
     "text": [
      "    index  company   body-style  wheel-base  length engine-type  \\\n",
      "3       3     audi        sedan        99.8   176.6         ohc   \n",
      "4       4     audi        sedan        99.4   176.6         ohc   \n",
      "5       5     audi        sedan        99.8   177.3         ohc   \n",
      "6       6     audi        wagon       105.8   192.7         ohc   \n",
      "7       9      bmw        sedan       101.2   176.8         ohc   \n",
      "8      10      bmw        sedan       101.2   176.8         ohc   \n",
      "9      11      bmw        sedan       101.2   176.8         ohc   \n",
      "10     13      bmw        sedan       103.5   189.0         ohc   \n",
      "11     14      bmw        sedan       103.5   193.8         ohc   \n",
      "12     15      bmw        sedan       110.0   197.0         ohc   \n",
      "45     61  porsche      hardtop        89.5   168.9        ohcf   \n",
      "46     62  porsche  convertible        89.5   168.9        ohcf   \n",
      "\n",
      "   num-of-cylinders  horsepower  average-mileage    price  \n",
      "3              four         102               24  13950.0  \n",
      "4              five         115               18  17450.0  \n",
      "5              five         110               19  15250.0  \n",
      "6              five         110               19  18920.0  \n",
      "7              four         101               23  16430.0  \n",
      "8              four         101               23  16925.0  \n",
      "9               six         121               21  20970.0  \n",
      "10              six         182               16  30760.0  \n",
      "11              six         182               16  41315.0  \n",
      "12              six         182               15  36880.0  \n",
      "45              six         207               17  34028.0  \n",
      "46              six         207               17  37028.0  \n"
     ]
    }
   ],
   "source": [
    "models = ['audi', 'bmw', 'porsche']\n",
    "print(cars[cars['company'].isin(models)])\n",
    "\n",
    "\n",
    "#Eller så gör man nedan med loc\n",
    "# cond1 = cars['company'] == 'audi'\n",
    "# cond2 = cars['company'] == 'bmw'\n",
    "# cond3 = cars['company'] == 'porsche'\n",
    "# print(cars.loc[(cond1) | (cond2) | (cond3)])"
   ]
  },
  {
   "cell_type": "markdown",
   "id": "3ce133eb",
   "metadata": {},
   "source": [
    "### Find the number of cars (rows) for each company. "
   ]
  },
  {
   "cell_type": "code",
   "execution_count": 24,
   "id": "7e6a9d43",
   "metadata": {},
   "outputs": [
    {
     "name": "stdout",
     "output_type": "stream",
     "text": [
      "toyota           7\n",
      "bmw              6\n",
      "mazda            5\n",
      "nissan           5\n",
      "audi             4\n",
      "mercedes-benz    4\n",
      "mitsubishi       4\n",
      "volkswagen       4\n",
      "alfa-romero      3\n",
      "chevrolet        3\n",
      "honda            3\n",
      "jaguar           3\n",
      "dodge            2\n",
      "porsche          2\n",
      "volvo            2\n",
      "isuzu            1\n",
      "Name: company, dtype: int64\n"
     ]
    }
   ],
   "source": [
    "nr_cars = cars['company'].value_counts()\n",
    "print(nr_cars)\n",
    "\n",
    "\n",
    "# Also 2nd\n",
    "# nr_cars = cars.groupby('company').size()\n",
    "#print(nr_cars)\n",
    "\n",
    "\n",
    "# Or 3rd....if i didnt have any methods but less effecient\n",
    "\n",
    "# nr_cars = {}   # Tom dictionary skapas för bilar med antalet i senare\n",
    "# for x,y in cars.iterrows():\n",
    "#    model = y['company']\n",
    "#    key_count = len([key for key in cars['company'] if key == model])\n",
    "#    nr_cars[model] = key_count  \n",
    "#for a,b in enumerate(nr_cars):\n",
    "#    print(b,nr_cars[b])\n",
    "\n",
    "#print(nr_cars)"
   ]
  },
  {
   "cell_type": "markdown",
   "id": "5beef62f",
   "metadata": {},
   "source": [
    "### Find the maximum price for each company. "
   ]
  },
  {
   "cell_type": "code",
   "execution_count": 25,
   "id": "d91dc8be",
   "metadata": {},
   "outputs": [
    {
     "name": "stdout",
     "output_type": "stream",
     "text": [
      "company\n",
      "alfa-romero      16500.0\n",
      "audi             18920.0\n",
      "bmw              41315.0\n",
      "chevrolet         6575.0\n",
      "dodge             6377.0\n",
      "honda            12945.0\n",
      "isuzu             6785.0\n",
      "jaguar           36000.0\n",
      "mazda            18344.0\n",
      "mercedes-benz    45400.0\n",
      "mitsubishi        8189.0\n",
      "nissan           13499.0\n",
      "porsche          37028.0\n",
      "toyota           15750.0\n",
      "volkswagen        9995.0\n",
      "volvo            13415.0\n",
      "Name: price, dtype: float64\n"
     ]
    }
   ],
   "source": [
    "max_price = cars.groupby('company')['price'].max()\n",
    "print(max_price)"
   ]
  },
  {
   "cell_type": "code",
   "execution_count": null,
   "id": "cc509131",
   "metadata": {},
   "outputs": [],
   "source": []
  }
 ],
 "metadata": {
  "kernelspec": {
   "display_name": "Python 3 (ipykernel)",
   "language": "python",
   "name": "python3"
  },
  "language_info": {
   "codemirror_mode": {
    "name": "ipython",
    "version": 3
   },
   "file_extension": ".py",
   "mimetype": "text/x-python",
   "name": "python",
   "nbconvert_exporter": "python",
   "pygments_lexer": "ipython3",
   "version": "3.9.12"
  }
 },
 "nbformat": 4,
 "nbformat_minor": 5
}
